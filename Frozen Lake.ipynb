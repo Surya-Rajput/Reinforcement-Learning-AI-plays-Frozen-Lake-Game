{
  "cells": [
    {
      "cell_type": "code",
      "execution_count": null,
      "id": "c243bda3",
      "metadata": {
        "colab": {
          "base_uri": "https://localhost:8080/"
        },
        "id": "c243bda3",
        "outputId": "55c905f3-b03a-4603-caa7-e640e8977382"
      },
      "outputs": [
        {
          "output_type": "stream",
          "name": "stdout",
          "text": [
            "Looking in indexes: https://pypi.org/simple, https://us-python.pkg.dev/colab-wheels/public/simple/\n",
            "Requirement already satisfied: gym in /usr/local/lib/python3.10/dist-packages (0.25.2)\n",
            "Requirement already satisfied: numpy>=1.18.0 in /usr/local/lib/python3.10/dist-packages (from gym) (1.22.4)\n",
            "Requirement already satisfied: cloudpickle>=1.2.0 in /usr/local/lib/python3.10/dist-packages (from gym) (2.2.1)\n",
            "Requirement already satisfied: gym-notices>=0.0.4 in /usr/local/lib/python3.10/dist-packages (from gym) (0.0.8)\n"
          ]
        }
      ],
      "source": [
        "pip install gym"
      ]
    },
    {
      "cell_type": "code",
      "source": [
        "pip install gymnasium"
      ],
      "metadata": {
        "colab": {
          "base_uri": "https://localhost:8080/"
        },
        "id": "6zsEkOzCYvvm",
        "outputId": "5933bed2-c70a-44f4-82f2-b4edfd23d4a3"
      },
      "id": "6zsEkOzCYvvm",
      "execution_count": null,
      "outputs": [
        {
          "output_type": "stream",
          "name": "stderr",
          "text": [
            "/usr/local/lib/python3.10/dist-packages/ipykernel/ipkernel.py:283: DeprecationWarning: `should_run_async` will not call `transform_cell` automatically in the future. Please pass the result to `transformed_cell` argument and any exception that happen during thetransform in `preprocessing_exc_tuple` in IPython 7.17 and above.\n",
            "  and should_run_async(code)\n"
          ]
        },
        {
          "output_type": "stream",
          "name": "stdout",
          "text": [
            "Looking in indexes: https://pypi.org/simple, https://us-python.pkg.dev/colab-wheels/public/simple/\n",
            "Collecting gymnasium\n",
            "  Downloading gymnasium-0.28.1-py3-none-any.whl (925 kB)\n",
            "\u001b[2K     \u001b[90m━━━━━━━━━━━━━━━━━━━━━━━━━━━━━━━━━━━━━━\u001b[0m \u001b[32m925.5/925.5 kB\u001b[0m \u001b[31m41.1 MB/s\u001b[0m eta \u001b[36m0:00:00\u001b[0m\n",
            "\u001b[?25hRequirement already satisfied: numpy>=1.21.0 in /usr/local/lib/python3.10/dist-packages (from gymnasium) (1.22.4)\n",
            "Collecting jax-jumpy>=1.0.0 (from gymnasium)\n",
            "  Downloading jax_jumpy-1.0.0-py3-none-any.whl (20 kB)\n",
            "Requirement already satisfied: cloudpickle>=1.2.0 in /usr/local/lib/python3.10/dist-packages (from gymnasium) (2.2.1)\n",
            "Requirement already satisfied: typing-extensions>=4.3.0 in /usr/local/lib/python3.10/dist-packages (from gymnasium) (4.5.0)\n",
            "Collecting farama-notifications>=0.0.1 (from gymnasium)\n",
            "  Downloading Farama_Notifications-0.0.4-py3-none-any.whl (2.5 kB)\n",
            "Installing collected packages: farama-notifications, jax-jumpy, gymnasium\n",
            "Successfully installed farama-notifications-0.0.4 gymnasium-0.28.1 jax-jumpy-1.0.0\n"
          ]
        }
      ]
    },
    {
      "cell_type": "code",
      "execution_count": null,
      "id": "a65e3fec",
      "metadata": {
        "colab": {
          "base_uri": "https://localhost:8080/"
        },
        "id": "a65e3fec",
        "outputId": "40c884d3-542e-4455-8017-d83836664bd7"
      },
      "outputs": [
        {
          "output_type": "stream",
          "name": "stdout",
          "text": [
            "Looking in indexes: https://pypi.org/simple, https://us-python.pkg.dev/colab-wheels/public/simple/\n",
            "Requirement already satisfied: Ipython in /usr/local/lib/python3.10/dist-packages (7.34.0)\n",
            "Requirement already satisfied: setuptools>=18.5 in /usr/local/lib/python3.10/dist-packages (from Ipython) (67.7.2)\n",
            "Requirement already satisfied: jedi>=0.16 in /usr/local/lib/python3.10/dist-packages (from Ipython) (0.18.2)\n",
            "Requirement already satisfied: decorator in /usr/local/lib/python3.10/dist-packages (from Ipython) (4.4.2)\n",
            "Requirement already satisfied: pickleshare in /usr/local/lib/python3.10/dist-packages (from Ipython) (0.7.5)\n",
            "Requirement already satisfied: traitlets>=4.2 in /usr/local/lib/python3.10/dist-packages (from Ipython) (5.7.1)\n",
            "Requirement already satisfied: prompt-toolkit!=3.0.0,!=3.0.1,<3.1.0,>=2.0.0 in /usr/local/lib/python3.10/dist-packages (from Ipython) (3.0.38)\n",
            "Requirement already satisfied: pygments in /usr/local/lib/python3.10/dist-packages (from Ipython) (2.14.0)\n",
            "Requirement already satisfied: backcall in /usr/local/lib/python3.10/dist-packages (from Ipython) (0.2.0)\n",
            "Requirement already satisfied: matplotlib-inline in /usr/local/lib/python3.10/dist-packages (from Ipython) (0.1.6)\n",
            "Requirement already satisfied: pexpect>4.3 in /usr/local/lib/python3.10/dist-packages (from Ipython) (4.8.0)\n",
            "Requirement already satisfied: parso<0.9.0,>=0.8.0 in /usr/local/lib/python3.10/dist-packages (from jedi>=0.16->Ipython) (0.8.3)\n",
            "Requirement already satisfied: ptyprocess>=0.5 in /usr/local/lib/python3.10/dist-packages (from pexpect>4.3->Ipython) (0.7.0)\n",
            "Requirement already satisfied: wcwidth in /usr/local/lib/python3.10/dist-packages (from prompt-toolkit!=3.0.0,!=3.0.1,<3.1.0,>=2.0.0->Ipython) (0.2.6)\n"
          ]
        }
      ],
      "source": [
        "pip install Ipython"
      ]
    },
    {
      "cell_type": "code",
      "execution_count": 34,
      "id": "a09eddfc",
      "metadata": {
        "id": "a09eddfc"
      },
      "outputs": [],
      "source": [
        "import numpy as np\n",
        "import gymnasium as gym\n",
        "import random\n",
        "import time\n",
        "from IPython.display import clear_output"
      ]
    },
    {
      "cell_type": "code",
      "execution_count": 41,
      "id": "c191fd0d",
      "metadata": {
        "id": "c191fd0d"
      },
      "outputs": [],
      "source": [
        "# Create the environment\n",
        "env = gym.make('FrozenLake-v1', render_mode='ansi')\n"
      ]
    },
    {
      "cell_type": "code",
      "execution_count": 42,
      "id": "0d25c6b4",
      "metadata": {
        "colab": {
          "base_uri": "https://localhost:8080/"
        },
        "id": "0d25c6b4",
        "outputId": "48c51672-1d17-400e-8709-25b9bced77fe"
      },
      "outputs": [
        {
          "output_type": "stream",
          "name": "stdout",
          "text": [
            "[[0. 0. 0. 0.]\n",
            " [0. 0. 0. 0.]\n",
            " [0. 0. 0. 0.]\n",
            " [0. 0. 0. 0.]\n",
            " [0. 0. 0. 0.]\n",
            " [0. 0. 0. 0.]\n",
            " [0. 0. 0. 0.]\n",
            " [0. 0. 0. 0.]\n",
            " [0. 0. 0. 0.]\n",
            " [0. 0. 0. 0.]\n",
            " [0. 0. 0. 0.]\n",
            " [0. 0. 0. 0.]\n",
            " [0. 0. 0. 0.]\n",
            " [0. 0. 0. 0.]\n",
            " [0. 0. 0. 0.]\n",
            " [0. 0. 0. 0.]]\n"
          ]
        }
      ],
      "source": [
        "# Initialize the Q-table\n",
        "# A Q-Table helps us to find the best action for each state in the environment.\n",
        "state_space_size = env.observation_space.n # number of rows in q table\n",
        "action_space_size = env.action_space.n # number of columns in q table\n",
        "\n",
        "q_table = np.zeros((state_space_size, action_space_size)) #building and filling the q table with zeros\n",
        "print(q_table)"
      ]
    },
    {
      "cell_type": "code",
      "execution_count": 43,
      "id": "dab7a14c",
      "metadata": {
        "id": "dab7a14c"
      },
      "outputs": [],
      "source": [
        "# Set hyperparameters\n",
        "num_episodes = 10000\n",
        "max_steps_per_episode = 100 # if agent havent reach the goal by 100 step agent will recieve 0 points and new episode will start\n",
        "\n",
        "\n",
        "learning_rate = 0.1 # aplha\n",
        "discount_rate = 0.99 #gamma\n",
        "\n",
        "# epsilon greedy strategy\n",
        "exploration_rate = 1 #epsilon\n",
        "max_exploration_rate = 1\n",
        "min_exploration_rate = 0.01\n",
        "exploration_decay_rate = 0.001 # determine the rate at which the exploration rate will decay\n",
        "# first agent explore the environment epsilon = 1 then after each episode epsilon start to decrease and probability of\n",
        "# exploring decrease and tend toward exploiting the environment."
      ]
    },
    {
      "cell_type": "code",
      "execution_count": 44,
      "id": "fbb2bbbd",
      "metadata": {
        "colab": {
          "base_uri": "https://localhost:8080/"
        },
        "id": "fbb2bbbd",
        "outputId": "55f7cf67-474c-4453-c24a-5dafaf288a74"
      },
      "outputs": [
        {
          "output_type": "stream",
          "name": "stdout",
          "text": [
            "*****Average reward per thousand episodes******\n",
            "\n",
            "1000 :  0.05000000000000004\n",
            "2000 :  0.22500000000000017\n",
            "3000 :  0.4160000000000003\n",
            "4000 :  0.5490000000000004\n",
            "5000 :  0.6590000000000005\n",
            "6000 :  0.6590000000000005\n",
            "7000 :  0.6560000000000005\n",
            "8000 :  0.6850000000000005\n",
            "9000 :  0.6990000000000005\n",
            "10000 :  0.6500000000000005\n",
            "\n",
            "\n",
            "*****Q-table*****\n",
            "[[0.53322358 0.47235546 0.45467521 0.45637953]\n",
            " [0.33219048 0.3597539  0.41038779 0.45439638]\n",
            " [0.38524148 0.38636832 0.38504659 0.42948074]\n",
            " [0.27601341 0.33285804 0.28375168 0.39901958]\n",
            " [0.55537446 0.30543983 0.34491143 0.41334572]\n",
            " [0.         0.         0.         0.        ]\n",
            " [0.14118134 0.14672884 0.32006351 0.12740045]\n",
            " [0.         0.         0.         0.        ]\n",
            " [0.31591014 0.3670882  0.40306568 0.59584287]\n",
            " [0.40402617 0.6752164  0.40744566 0.35121178]\n",
            " [0.56232421 0.34513962 0.31672077 0.33036058]\n",
            " [0.         0.         0.         0.        ]\n",
            " [0.         0.         0.         0.        ]\n",
            " [0.52665916 0.49187804 0.77264255 0.40995431]\n",
            " [0.73840468 0.88424558 0.76350742 0.73373379]\n",
            " [0.         0.         0.         0.        ]]\n"
          ]
        }
      ],
      "source": [
        "# List of rewards\n",
        "rewards_all_episodes = []\n",
        "\n",
        "# 2 Q learning algorithm - For life or until learning is stopped\n",
        "for episode in range(num_episodes): #this loop contain everything that happen with a single episode\n",
        "    # Reset the environment back to the starting state\n",
        "    state = env.reset()[0]\n",
        "    done = False # starting out with environment state not done\n",
        "    rewards_current_episode = 0 # starting out with zero rewards\n",
        "\n",
        "    for step in range(max_steps_per_episode): #this loop contain everything that happen with a single time step in each episode\n",
        "        # 3. Choose an action a in the current world state (s)\n",
        "        ## First we randomize a number\n",
        "        ### Exploration - exploitation trade-off\n",
        "        exploration_rate_threshold = random.uniform(0, 1) #this will be used to determine if agen will explore or exploit the environment\n",
        "\n",
        "        ## If this number > greater than epsilon --> exploitation (taking the biggest Q value for this state)\n",
        "        if exploration_rate_threshold > exploration_rate:\n",
        "            action = np.argmax(q_table[state,:]) # chossing the biggest q value\n",
        "\n",
        "        # Else doing a random choice --> exploration\n",
        "        else:\n",
        "            action = env.action_space.sample()\n",
        "\n",
        "        # Take the action (a) and observe the outcome state(s') and reward (r)\n",
        "        new_state, reward, done, truncated, info = env.step(action)\n",
        "\n",
        "        # Update Q(s,a):= Q(s,a) + lr [R(s,a) + gamma * max Q(s',a') - Q(s,a)]\n",
        "        # qtable[new_state,:] : all the actions we can take from new state\n",
        "        q_table[state, action] = q_table[state, action] * (1-learning_rate) + \\\n",
        "            learning_rate * (reward + discount_rate * np.max(q_table[new_state, :]))\n",
        "\n",
        "        # new q value is the weighted sum of old q value and the learned value\n",
        "        # Learning rate in how quickly the agent abendends the q value in Q-table for new q-value\n",
        "\n",
        "\n",
        "\n",
        "        # Our new state is state\n",
        "        state = new_state\n",
        "        rewards_current_episode += reward\n",
        "\n",
        "        # If done (if we're dead) : finish episode\n",
        "        if done == True:\n",
        "            break\n",
        "\n",
        "    # Reduce epsilon (because we need less and less exploration)\n",
        "    ## Exploration rate decay\n",
        "    exploration_rate = min_exploration_rate + \\\n",
        "        (max_exploration_rate - min_exploration_rate) * np.exp(-exploration_decay_rate*episode)\n",
        "\n",
        "    rewards_all_episodes.append(rewards_current_episode)\n",
        "\n",
        "\n",
        "# calculate and print the average rewards per thousand episodes\n",
        "rewards_per_thousand_episodes = np.split(np.array(rewards_all_episodes),num_episodes/1000)\n",
        "count = 1000\n",
        "print(\"*****Average reward per thousand episodes******\\n\")\n",
        "for r in rewards_per_thousand_episodes:\n",
        "    print(count, \": \", str(sum(r/1000)))\n",
        "    count += 1000\n",
        "# print updated q table\n",
        "print(\"\\n\\n*****Q-table*****\")\n",
        "print(q_table)"
      ]
    },
    {
      "cell_type": "code",
      "execution_count": 45,
      "id": "acf0926b",
      "metadata": {
        "colab": {
          "base_uri": "https://localhost:8080/"
        },
        "id": "acf0926b",
        "outputId": "1c301677-f8c8-47f8-acc6-0513af3499c6"
      },
      "outputs": [
        {
          "output_type": "stream",
          "name": "stdout",
          "text": [
            "  (Down)\n",
            "SFFF\n",
            "FHFH\n",
            "FFFH\n",
            "HFF\u001b[41mG\u001b[0m\n",
            "\n",
            "****You reached the goal!****\n"
          ]
        }
      ],
      "source": [
        "# Watch our agent play Frozen Lake by playing the best action\n",
        "# from each state according to the Q-table\n",
        "\n",
        "for episode in range(5):\n",
        "    # initialize new episode params\n",
        "    state = env.reset()[0]\n",
        "    done = False\n",
        "    print(\"*****EPISODE \", episode+1, \"*****\\n\\n\\n\\n\")\n",
        "    time.sleep(1)\n",
        "\n",
        "    for step in range(max_steps_per_episode):\n",
        "        # Show current state of environment on screen\n",
        "        # Choose action with highest Q-value for current state\n",
        "        # Take new action\n",
        "        clear_output(wait=True) # clear the output for new episode\n",
        "        print(env.render()) # to see the game grid and see where our agent is\n",
        "        time.sleep(0.3)\n",
        "\n",
        "        action = np.argmax(q_table[state,:])\n",
        "        new_state, reward, done, truncated, info= env.step(action)\n",
        "\n",
        "\n",
        "        if done:\n",
        "            clear_output(wait=True)\n",
        "            print(env.render())\n",
        "            if reward == 1:\n",
        "                print(\"****You reached the goal!****\")\n",
        "                time.sleep(3)\n",
        "            else:\n",
        "                print(\"****You fell through a hole!****\")\n",
        "                time.sleep(3)\n",
        "                clear_output(wait=True)\n",
        "            break\n",
        "\n",
        "        state = new_state\n",
        "\n",
        "\n",
        "env.close()"
      ]
    }
  ],
  "metadata": {
    "kernelspec": {
      "display_name": "Python 3",
      "name": "python3"
    },
    "language_info": {
      "codemirror_mode": {
        "name": "ipython",
        "version": 3
      },
      "file_extension": ".py",
      "mimetype": "text/x-python",
      "name": "python",
      "nbconvert_exporter": "python",
      "pygments_lexer": "ipython3",
      "version": "3.9.13"
    },
    "colab": {
      "provenance": [],
      "gpuType": "T4"
    },
    "accelerator": "GPU"
  },
  "nbformat": 4,
  "nbformat_minor": 5
}